{
 "cells": [
  {
   "cell_type": "markdown",
   "metadata": {},
   "source": [
    "## Purpose"
   ]
  },
  {
   "cell_type": "markdown",
   "metadata": {},
   "source": [
    "The purpose of this analysis is to build an explanatory model, focused on the R Zero of the SIR Model."
   ]
  },
  {
   "cell_type": "markdown",
   "metadata": {},
   "source": [
    "## Background"
   ]
  },
  {
   "cell_type": "markdown",
   "metadata": {},
   "source": [
    "The SIR model (Susceptible, Infected, Recovered) can be used to model the spread of contagious diseases. Given known parameters such as the total population, number of currently infected individuals, susceptible population, probability of contact, probability of spread, and probability of recovery at time interval t, we can predict what the number of infected individuals will be at time interval t + 1.\n",
    "\n",
    "Additionally, the R Zero (basic reproduction number) can be computed by taking the probability of contact times the probability of spread, divided by the probability of recovery. In plain terms, the R Zero is the number of individuals that one infected individual is likely to spread the disease to before that individual has recovered. As indicated by its raw formula, it encompasses the contagiousness of the disease, factors external to the disease such as masks, vaccinations, social distancing, etc., and the duration with which an individual is known to carry the disease."
   ]
  },
  {
   "cell_type": "markdown",
   "metadata": {},
   "source": [
    "## Goals"
   ]
  },
  {
   "cell_type": "markdown",
   "metadata": {},
   "source": [
    "The goals of this analysis are:\n",
    "1. Fit historical Covid case data to the SIR model to find a reasonable R Zero.\n",
    "2. Isolate the probability of contact and the probability of spread from the R Zero.\n",
    "\n",
    "The first goal involves taking the historical number of infections of Covid 19 and using that to estimate the currently infected poulation at a given time period t. The value for time period t + 1 is also known. The unknown parameters in the SIR model are the probability of contact and the probability of spread. For the purposes of step 1, we can combine these into a single parameter (since they are multiplied together in the SIR model), the probability of contact spread. We will then isolate this parameter in the SIR model, and subsequently fit the existing Covid 19 case numbers (using a moving average) into this modified equation to compute the probability of contact spread at each time t over the duration of the Covid epidemic. Finally, the probability of contact spread can be used with the probability of recovery to compute the R Zero.\n",
    "\n",
    "The second goal involves taking the R Zero value at each time period t and using other data sources to explain what factors contribute primarily to the R Zero. Data sources will include but will not be limited to vaccination data, Covid strain data, and mobility data."
   ]
  },
  {
   "cell_type": "markdown",
   "metadata": {},
   "source": [
    "## Approach"
   ]
  },
  {
   "cell_type": "markdown",
   "metadata": {},
   "source": []
  }
 ],
 "metadata": {
  "kernelspec": {
   "display_name": "Python 3",
   "language": "python",
   "name": "python3"
  },
  "language_info": {
   "codemirror_mode": {
    "name": "ipython",
    "version": 3
   },
   "file_extension": ".py",
   "mimetype": "text/x-python",
   "name": "python",
   "nbconvert_exporter": "python",
   "pygments_lexer": "ipython3",
   "version": "3.8.3"
  }
 },
 "nbformat": 4,
 "nbformat_minor": 4
}
